{
 "cells": [
  {
   "cell_type": "markdown",
   "metadata": {},
   "source": [
    "QUESTION 1\n"
   ]
  },
  {
   "cell_type": "code",
   "execution_count": 26,
   "metadata": {},
   "outputs": [
    {
     "name": "stderr",
     "output_type": "stream",
     "text": [
      "[nltk_data] Downloading package stopwords to\n",
      "[nltk_data]     C:\\Users\\Pritam\\AppData\\Roaming\\nltk_data...\n",
      "[nltk_data]   Package stopwords is already up-to-date!\n"
     ]
    },
    {
     "data": {
      "text/plain": [
       "True"
      ]
     },
     "execution_count": 26,
     "metadata": {},
     "output_type": "execute_result"
    }
   ],
   "source": [
    "import pandas as pd\n",
    "import numpy as np\n",
    "import string\n",
    "import nltk\n",
    "from nltk.corpus import stopwords\n",
    "from sklearn.feature_extraction.text import CountVectorizer, TfidfVectorizer\n",
    "# Ensure stopwords are downloaded\n",
    "nltk.download('stopwords')\n",
    "\n"
   ]
  },
  {
   "cell_type": "code",
   "execution_count": 27,
   "metadata": {},
   "outputs": [],
   "source": [
    "# Sample dataset of customer reviews\n",
    "reviews = [\n",
    "    \"The pizza was amazing and delicious.\",\n",
    "    \"I loved the pasta, it was fantastic!\",\n",
    "    \"Service was slow but the food was worth it.\",\n",
    "    \"Not a great experience, the food was average.\",\n",
    "    \"The ambiance was wonderful and the staff were friendly.\"\n",
    "]\n"
   ]
  },
  {
   "cell_type": "code",
   "execution_count": 28,
   "metadata": {},
   "outputs": [],
   "source": [
    "# Preprocessing function: lowercasing, removing punctuation, stopword removal\n",
    "stop_words = set(stopwords.words('english'))\n",
    "\n",
    "def preprocess_text(text):\n",
    "    text = text.lower()  # Lowercasing\n",
    "    text = text.translate(str.maketrans('', '', string.punctuation))  # Removing punctuation\n",
    "    text = ' '.join([word for word in text.split() if word not in stop_words])  # Removing stopwords\n",
    "    return text\n"
   ]
  },
  {
   "cell_type": "code",
   "execution_count": 29,
   "metadata": {},
   "outputs": [],
   "source": [
    "# Preprocess the reviews\n",
    "preprocessed_reviews = [preprocess_text(review) for review in reviews]\n"
   ]
  },
  {
   "cell_type": "code",
   "execution_count": 30,
   "metadata": {},
   "outputs": [],
   "source": [
    "# Implement Bag-of-Words (BoW) using CountVectorizer\n",
    "vectorizer_bow = CountVectorizer()\n",
    "bow_matrix = vectorizer_bow.fit_transform(preprocessed_reviews)\n"
   ]
  },
  {
   "cell_type": "code",
   "execution_count": 31,
   "metadata": {},
   "outputs": [],
   "source": [
    "# Convert BoW matrix to DataFrame for display\n",
    "bow_df = pd.DataFrame(bow_matrix.toarray(), columns=vectorizer_bow.get_feature_names_out())\n"
   ]
  },
  {
   "cell_type": "code",
   "execution_count": 32,
   "metadata": {},
   "outputs": [],
   "source": [
    "# Implement TF-IDF Vectorization using TfidfVectorizer\n",
    "vectorizer_tfidf = TfidfVectorizer()\n",
    "tfidf_matrix = vectorizer_tfidf.fit_transform(preprocessed_reviews)\n"
   ]
  },
  {
   "cell_type": "code",
   "execution_count": 33,
   "metadata": {},
   "outputs": [],
   "source": [
    "# Convert TF-IDF matrix to DataFrame for display\n",
    "tfidf_df = pd.DataFrame(tfidf_matrix.toarray(), columns=vectorizer_tfidf.get_feature_names_out())\n"
   ]
  },
  {
   "cell_type": "code",
   "execution_count": 34,
   "metadata": {},
   "outputs": [
    {
     "name": "stdout",
     "output_type": "stream",
     "text": [
      "Bag-of-Words Representation:\n",
      "   amazing  ambiance  average  delicious  experience  fantastic  food  \\\n",
      "0        1         0        0          1           0          0     0   \n",
      "1        0         0        0          0           0          1     0   \n",
      "2        0         0        0          0           0          0     1   \n",
      "3        0         0        1          0           1          0     1   \n",
      "4        0         1        0          0           0          0     0   \n",
      "\n",
      "   friendly  great  loved  pasta  pizza  service  slow  staff  wonderful  \\\n",
      "0         0      0      0      0      1        0     0      0          0   \n",
      "1         0      0      1      1      0        0     0      0          0   \n",
      "2         0      0      0      0      0        1     1      0          0   \n",
      "3         0      1      0      0      0        0     0      0          0   \n",
      "4         1      0      0      0      0        0     0      1          1   \n",
      "\n",
      "   worth  \n",
      "0      0  \n",
      "1      0  \n",
      "2      1  \n",
      "3      0  \n",
      "4      0  \n",
      "\n",
      "TF-IDF Representation:\n",
      "   amazing  ambiance   average  delicious  experience  fantastic      food  \\\n",
      "0  0.57735       0.0  0.000000    0.57735    0.000000    0.00000  0.000000   \n",
      "1  0.00000       0.0  0.000000    0.00000    0.000000    0.57735  0.000000   \n",
      "2  0.00000       0.0  0.000000    0.00000    0.000000    0.00000  0.422242   \n",
      "3  0.00000       0.0  0.523358    0.00000    0.523358    0.00000  0.422242   \n",
      "4  0.00000       0.5  0.000000    0.00000    0.000000    0.00000  0.000000   \n",
      "\n",
      "   friendly     great    loved    pasta    pizza   service      slow  staff  \\\n",
      "0       0.0  0.000000  0.00000  0.00000  0.57735  0.000000  0.000000    0.0   \n",
      "1       0.0  0.000000  0.57735  0.57735  0.00000  0.000000  0.000000    0.0   \n",
      "2       0.0  0.000000  0.00000  0.00000  0.00000  0.523358  0.523358    0.0   \n",
      "3       0.0  0.523358  0.00000  0.00000  0.00000  0.000000  0.000000    0.0   \n",
      "4       0.5  0.000000  0.00000  0.00000  0.00000  0.000000  0.000000    0.5   \n",
      "\n",
      "   wonderful     worth  \n",
      "0        0.0  0.000000  \n",
      "1        0.0  0.000000  \n",
      "2        0.0  0.523358  \n",
      "3        0.0  0.000000  \n",
      "4        0.5  0.000000  \n",
      "\n",
      "The results have also been saved as 'bag_of_words.csv' and 'tfidf_representation.csv'.\n"
     ]
    }
   ],
   "source": [
    "# Display results using print statements for local execution\n",
    "\n",
    "print(\"Bag-of-Words Representation:\")\n",
    "print(bow_df)\n",
    "\n",
    "print(\"\\nTF-IDF Representation:\")\n",
    "print(tfidf_df)\n",
    "\n",
    "# Optionally, save the results to CSV for easier viewing\n",
    "bow_df.to_csv(\"bag_of_words.csv\", index=False)\n",
    "tfidf_df.to_csv(\"tfidf_representation.csv\", index=False)\n",
    "\n",
    "print(\"\\nThe results have also been saved as 'bag_of_words.csv' and 'tfidf_representation.csv'.\")\n"
   ]
  },
  {
   "cell_type": "markdown",
   "metadata": {},
   "source": [
    "QUESTION 2"
   ]
  }
 ],
 "metadata": {
  "kernelspec": {
   "display_name": "Python 3",
   "language": "python",
   "name": "python3"
  },
  "language_info": {
   "codemirror_mode": {
    "name": "ipython",
    "version": 3
   },
   "file_extension": ".py",
   "mimetype": "text/x-python",
   "name": "python",
   "nbconvert_exporter": "python",
   "pygments_lexer": "ipython3",
   "version": "3.13.1"
  }
 },
 "nbformat": 4,
 "nbformat_minor": 2
}
